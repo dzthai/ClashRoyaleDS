{
 "cells": [
  {
   "cell_type": "markdown",
   "id": "4a7638df",
   "metadata": {},
   "source": [
    "# <font color='blue'>Clash Royale Data Science Project - 10/13/21</font>\n",
    "\n",
    "\n",
    "\n",
    "## Introduction\n",
    "testing PART 2\n",
    "\n",
    "\n",
    "## Game Mechanics\n",
    "### To understand what the project is trying to accomplish, I must first establish how the game works. \n",
    "#### What is Clash Royale?\n",
    "Clash Royale is a hybrid card/time strategy game produced by Supercell that is played on mobile devices. The game is played like chess, in the sense that it is 1 on 1, has \"pieces\"(like a chess piece = knight or queen), and the strategy centers around the interaction of these pieces. \n",
    "\n",
    "#### What is the objective of Clash Royale?\n",
    "Each player is played against each other on a board, where the screen is split into your side and your opponent's. The two smaller towers shoot arrows at approaching enemies at a constant rate, damaging them to prevent damage to their health quantity (which is represented by the number above the blue bar). \n",
    "- time limit\n",
    "[picture of board].  \n",
    "\n",
    "#### How do you win?\n",
    "- think about it like an indefinite set of rock paper scissors matches\n",
    "\n",
    "#### What does the player control?\n",
    "Players also bring with them a deck of 8 cards (that are the equivalent of chess pieces) that each have a special property. There are 103 cards in total that can be split into spells and minions. \n",
    "\n",
    "103C8 number of decks\n",
    "\n",
    "\n",
    "#### How do cards interact with each other?\n",
    "Minions are pieces that can be placed anywhere on your side of the board (with some exceptions)\n",
    "\n",
    "#### Fairness game-specific details\n",
    "- for sake of simplicity, all cards are level 13 or 9? (which one is better / more damage per elixir)\n",
    "- \n",
    "\n",
    "\n",
    "## <font color='red'>Pre-project thoughts</font>\n",
    "My first hypothesis is that I can just gauge my trophy range and then analyze that for the day.\n",
    "\n",
    "\n"
   ]
  },
  {
   "cell_type": "code",
   "execution_count": 2,
   "id": "02815bd7",
   "metadata": {},
   "outputs": [
    {
     "name": "stderr",
     "output_type": "stream",
     "text": [
      "c:\\users\\david\\appdata\\local\\programs\\python\\python39\\lib\\site-packages\\requests\\__init__.py:89: RequestsDependencyWarning: urllib3 (1.26.5) or chardet (3.0.4) doesn't match a supported version!\n",
      "  warnings.warn(\"urllib3 ({}) or chardet ({}) doesn't match a supported \"\n"
     ]
    }
   ],
   "source": [
    "import warnings\n",
    "import requests\n",
    "import pandas as pd\n",
    "import json\n",
    "from pandas.io.json import json_normalize \n",
    "import matplotlib.pyplot as plt\n",
    "import time\n",
    "warnings.filterwarnings('ignore')"
   ]
  },
  {
   "cell_type": "code",
   "execution_count": 3,
   "id": "851a7a1b",
   "metadata": {},
   "outputs": [],
   "source": [
    "\n",
    "win_condition = ['Lava Hound', 'Royal Giant', 'Hog Rider',\n",
    "                 'Balloon','Goblin Giant', 'Elixir Golem', 'Golem', \n",
    "                 'Giant', 'Graveyard', 'Three Musketeers', 'Goblin Barrel', 'X-Bow',\n",
    "                 'Skeleton Barrel', 'Goblin Drill', 'Sparky','Mortar', 'Wall Breakers','Miner',\n",
    "                 'Ram Rider','Battle Ram', 'Electro Giant','Royal Hogs']\n",
    "\n",
    "spells = ['Arrows', 'Zap', 'Earthquake', 'Poison', 'Fireball', 'Giant Snowball',\n",
    "          'Royal Delivery', 'Rocket', 'Barbarian Barrel','Lightning',\n",
    "          'Freeze','Mirror','Rage','Clone','Tornado','Goblin Barrel','The Log']\n",
    "\n",
    "buildings = ['Cannon','Bomb Tower','Inferno Tower','Furnace','Goblin Hut','Barbarian Hut',\n",
    "             'Mortar','Tesla','X-Bow','Goblin Cage','Tombstone','Elixir Collector']\n",
    "\n",
    "\n",
    "\n",
    "troops = ['Battle Healer', 'Bowler','Lumberjack','Mini P.E.K.K.A', 'P.E.K.K.A', \n",
    "          'Firecracker', 'Ice Wizard', 'Electro Wizard','Wizard','Musketeer', 'Skeletons','Minions','Archers',\n",
    "          'Knight','Spear Goblins','Goblins','Ice Spirit','Electro Spirit','Bomber','Barbarians','Skeleton Dragons',\n",
    "          'Fire Spirit','Bats','Royal Recruits','Goblin Gang','Elite Barbarians','Minion Horde','Rascals','Valkyrie',\n",
    "          'Mega Minion','Flying Machine','Ice Golem','Zappies','Dart Goblin','Heal Spirit','Baby Dragon','Skeleton Army',\n",
    "          'Giant Skeleton','Witch','Dark Prince','Royal Ghost','Princess','Inferno Dragon','Mother Witch','Night Witch',\n",
    "          'Prince','Hunter','Electro Dragon','Guards','Executioner','Cannon Cart','Mega Knight','Magic Archer','Bandit',\n",
    "          'Fisherman','Skeleton King','Archer Queen','Golden Knight']\n",
    "\n",
    "count_w = [0] * len(win_condition)\n",
    "df_w = {'Win Condition': win_condition, 'Count':count_w}\n",
    "    \n",
    "count_s = [0] * len(spells)\n",
    "df_s = {'Spell':spells , 'Count':count_s}\n",
    "\n",
    "count_t = [0] * len(troops)\n",
    "df_t = {'Troop':troops, 'Count':count_t}\n",
    "\n",
    "count_b = [0] * len(buildings)\n",
    "df_b = {'Building':buildings, 'Count':count_b}\n",
    "    \n",
    "df_WC = pd.DataFrame(df_w)\n",
    "df_spell = pd.DataFrame(df_s)\n",
    "df_troop = pd.DataFrame(df_t)\n",
    "df_building = pd.DataFrame(df_b)"
   ]
  },
  {
   "cell_type": "code",
   "execution_count": 1,
   "id": "b4571ef3",
   "metadata": {},
   "outputs": [
    {
     "ename": "NameError",
     "evalue": "name 'plt' is not defined",
     "output_type": "error",
     "traceback": [
      "\u001b[1;31m---------------------------------------------------------------------------\u001b[0m",
      "\u001b[1;31mNameError\u001b[0m                                 Traceback (most recent call last)",
      "\u001b[1;32m~\\AppData\\Local\\Temp/ipykernel_14660/3216702698.py\u001b[0m in \u001b[0;36m<module>\u001b[1;34m\u001b[0m\n\u001b[1;32m----> 1\u001b[1;33m \u001b[0mspell_bar\u001b[0m \u001b[1;33m=\u001b[0m \u001b[0mplt\u001b[0m\u001b[1;33m.\u001b[0m\u001b[0mfigure\u001b[0m\u001b[1;33m(\u001b[0m\u001b[1;33m)\u001b[0m\u001b[1;33m\u001b[0m\u001b[1;33m\u001b[0m\u001b[0m\n\u001b[0m\u001b[0;32m      2\u001b[0m \u001b[0max\u001b[0m \u001b[1;33m=\u001b[0m \u001b[0mspell_bar\u001b[0m\u001b[1;33m.\u001b[0m\u001b[0madd_axes\u001b[0m\u001b[1;33m(\u001b[0m\u001b[1;33m[\u001b[0m\u001b[1;36m0\u001b[0m\u001b[1;33m,\u001b[0m\u001b[1;36m0\u001b[0m\u001b[1;33m,\u001b[0m\u001b[1;36m4\u001b[0m\u001b[1;33m,\u001b[0m\u001b[1;36m2\u001b[0m\u001b[1;33m]\u001b[0m\u001b[1;33m)\u001b[0m\u001b[1;33m\u001b[0m\u001b[1;33m\u001b[0m\u001b[0m\n\u001b[0;32m      3\u001b[0m \u001b[0max\u001b[0m\u001b[1;33m.\u001b[0m\u001b[0mbar\u001b[0m\u001b[1;33m(\u001b[0m\u001b[0mdf_spell\u001b[0m\u001b[1;33m[\u001b[0m\u001b[1;34m'Spell'\u001b[0m\u001b[1;33m]\u001b[0m\u001b[1;33m,\u001b[0m\u001b[0mdf_spell\u001b[0m\u001b[1;33m[\u001b[0m\u001b[1;34m'Count'\u001b[0m\u001b[1;33m]\u001b[0m\u001b[1;33m)\u001b[0m\u001b[1;33m\u001b[0m\u001b[1;33m\u001b[0m\u001b[0m\n\u001b[0;32m      4\u001b[0m \u001b[0mspell_bar\u001b[0m\u001b[1;33m.\u001b[0m\u001b[0mshow\u001b[0m\u001b[1;33m(\u001b[0m\u001b[1;33m)\u001b[0m\u001b[1;33m\u001b[0m\u001b[1;33m\u001b[0m\u001b[0m\n",
      "\u001b[1;31mNameError\u001b[0m: name 'plt' is not defined"
     ]
    }
   ],
   "source": [
    "spell_bar = plt.figure()\n",
    "ax = spell_bar.add_axes([0,0,4,2])\n",
    "ax.bar(df_spell['Spell'],df_spell['Count'])\n",
    "spell_bar.show()"
   ]
  },
  {
   "cell_type": "code",
   "execution_count": null,
   "id": "c6193021",
   "metadata": {},
   "outputs": [],
   "source": [
    "WC_bar = plt.figure()\n",
    "ax = WC_bar.add_axes([0,0,5,2])\n",
    "ax.bar(df_WC['Win Condition'],df_WC['Count'])\n",
    "WC_bar.show()"
   ]
  },
  {
   "cell_type": "code",
   "execution_count": null,
   "id": "0114f7bf",
   "metadata": {},
   "outputs": [],
   "source": [
    "troop_bar = plt.figure()\n",
    "ax = troop_bar.add_axes([0,0,9,2])\n",
    "ax.bar(df_troop['Troop'],df_troop['Count'])\n",
    "troop_bar.show()"
   ]
  },
  {
   "cell_type": "code",
   "execution_count": null,
   "id": "2d0c0193",
   "metadata": {},
   "outputs": [],
   "source": [
    "building_bar = plt.figure()\n",
    "ax = building_bar.add_axes([0,0,4,2])\n",
    "ax.bar(df_building['Building'],df_building['Count'])\n",
    "building_bar.show()"
   ]
  }
 ],
 "metadata": {
  "kernelspec": {
   "display_name": "Python 3 (ipykernel)",
   "language": "python",
   "name": "python3"
  },
  "language_info": {
   "codemirror_mode": {
    "name": "ipython",
    "version": 3
   },
   "file_extension": ".py",
   "mimetype": "text/x-python",
   "name": "python",
   "nbconvert_exporter": "python",
   "pygments_lexer": "ipython3",
   "version": "3.9.1"
  }
 },
 "nbformat": 4,
 "nbformat_minor": 5
}
